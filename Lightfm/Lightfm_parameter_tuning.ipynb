{
 "cells": [
  {
   "cell_type": "code",
   "execution_count": 36,
   "id": "latest-bracket",
   "metadata": {},
   "outputs": [],
   "source": [
    "import os\n",
    "from glob import glob\n",
    "\n",
    "import dask\n",
    "import dask.bag as db\n",
    "import dask.dataframe as dd\n",
    "from distributed import Client\n",
    "from dask_jobqueue import SLURMCluster\n",
    "\n",
    "from IPython.display import display\n",
    "import matplotlib.pyplot as plt\n",
    "import pandas as pd\n",
    "import numpy as np"
   ]
  },
  {
   "cell_type": "code",
   "execution_count": 2,
   "id": "premium-racing",
   "metadata": {},
   "outputs": [],
   "source": [
    "from lightfm import LightFM"
   ]
  },
  {
   "cell_type": "code",
   "execution_count": 3,
   "id": "skilled-exhibition",
   "metadata": {},
   "outputs": [],
   "source": [
    "from lightfm.data import Dataset"
   ]
  },
  {
   "cell_type": "code",
   "execution_count": 23,
   "id": "contrary-shepherd",
   "metadata": {},
   "outputs": [
    {
     "name": "stderr",
     "output_type": "stream",
     "text": [
      "/ext3/miniconda3/lib/python3.8/site-packages/distributed/node.py:151: UserWarning: Port 8787 is already in use.\n",
      "Perhaps you already have a cluster running?\n",
      "Hosting the HTTP server on port 36243 instead\n",
      "  warnings.warn(\n"
     ]
    },
    {
     "data": {
      "application/vnd.jupyter.widget-view+json": {
       "model_id": "ffd35d406a2a4119a81f5dac4c01ed10",
       "version_major": 2,
       "version_minor": 0
      },
      "text/plain": [
       "VBox(children=(HTML(value='<h2>SLURMCluster</h2>'), HBox(children=(HTML(value='\\n<div>\\n  <style scoped>\\n    …"
      ]
     },
     "metadata": {},
     "output_type": "display_data"
    },
    {
     "data": {
      "text/html": [
       "<table style=\"border: 2px solid white;\">\n",
       "<tr>\n",
       "<td style=\"vertical-align: top; border: 0px solid white\">\n",
       "<h3 style=\"text-align: left;\">Client</h3>\n",
       "<ul style=\"text-align: left; list-style: none; margin: 0; padding: 0;\">\n",
       "  <li><b>Scheduler: </b>tcp://10.32.33.35:42453</li>\n",
       "  <li><b>Dashboard: </b><a href='http://10.32.33.35:36243/status' target='_blank'>http://10.32.33.35:36243/status</a></li>\n",
       "</ul>\n",
       "</td>\n",
       "<td style=\"vertical-align: top; border: 0px solid white\">\n",
       "<h3 style=\"text-align: left;\">Cluster</h3>\n",
       "<ul style=\"text-align: left; list-style:none; margin: 0; padding: 0;\">\n",
       "  <li><b>Workers: </b>0</li>\n",
       "  <li><b>Cores: </b>0</li>\n",
       "  <li><b>Memory: </b>0 B</li>\n",
       "</ul>\n",
       "</td>\n",
       "</tr>\n",
       "</table>"
      ],
      "text/plain": [
       "<Client: 'tcp://10.32.33.35:42453' processes=0 threads=0, memory=0 B>"
      ]
     },
     "metadata": {},
     "output_type": "display_data"
    }
   ],
   "source": [
    "LOCAL = False\n",
    "\n",
    "if LOCAL:\n",
    "    # This line creates a single-machine dask client\n",
    "    client = Client()\n",
    "else:    \n",
    "    # This line creates a SLURM cluster dask and dask client\n",
    "    # Logging outputs will be stored in /scratch/{your-netid}\n",
    "    \n",
    "    cluster = SLURMCluster(memory='4GB', cores=2, python='/scratch/work/public/dask/bin/python', \n",
    "                               local_directory='/tmp/{}/'.format(os.environ['SLURM_JOB_USER']),\n",
    "                               job_extra=['--output=/scratch/{}/slurm-%j.out'.format(os.environ['SLURM_JOB_USER'])])\n",
    "\n",
    "    cluster.submit_command = 'slurm'\n",
    "    cluster.scale(100)\n",
    "\n",
    "    display(cluster)\n",
    "    client = Client(cluster)\n",
    "\n",
    "display(client)"
   ]
  },
  {
   "cell_type": "code",
   "execution_count": 24,
   "id": "sunset-mandate",
   "metadata": {},
   "outputs": [],
   "source": [
    "#read in modified data\n",
    "#train_val = dd.read_csv(\"../train_val_small.csv\")\n",
    "#val_modified = dd.read_csv(\"../val_modified_small.csv\")\n",
    "train_val = dd.read_csv(\"../train_val_large.csv\")\n",
    "val_modified = dd.read_csv(\"../val_modified_large.csv\")"
   ]
  },
  {
   "cell_type": "code",
   "execution_count": 25,
   "id": "anticipated-credit",
   "metadata": {},
   "outputs": [],
   "source": [
    "train_val = train_val.repartition(npartitions=100)\n",
    "val_modified = val_modified.repartition(npartitions=100)"
   ]
  },
  {
   "cell_type": "code",
   "execution_count": 26,
   "id": "protected-rendering",
   "metadata": {},
   "outputs": [],
   "source": [
    "#modify data to input into lightfm dataset\n",
    "train = train_val[['userId', 'movieId', 'rating']]\n",
    "train_bag = train.to_bag()\n",
    "train_movie = train['movieId']\n",
    "train_user = train['userId']\n",
    "train_movie_bag = train_movie.to_bag().distinct()\n",
    "train_user_bag = train_user.to_bag().distinct()"
   ]
  },
  {
   "cell_type": "code",
   "execution_count": 27,
   "id": "cardiac-stack",
   "metadata": {},
   "outputs": [],
   "source": [
    "#modify data to input into lightfm dataset\n",
    "val = val_modified[['userId', 'movieId', 'rating']]\n",
    "val_bag = val.to_bag()"
   ]
  },
  {
   "cell_type": "code",
   "execution_count": 28,
   "id": "becoming-hours",
   "metadata": {},
   "outputs": [],
   "source": [
    "#create lightfm dataset\n",
    "dataset = Dataset()"
   ]
  },
  {
   "cell_type": "code",
   "execution_count": 29,
   "id": "economic-background",
   "metadata": {},
   "outputs": [],
   "source": [
    "#fit and build interactions\n",
    "dataset.fit(train_user_bag, train_movie_bag)"
   ]
  },
  {
   "cell_type": "code",
   "execution_count": 30,
   "id": "accessible-mother",
   "metadata": {},
   "outputs": [],
   "source": [
    "(train_interactions, train_weights) = dataset.build_interactions(train_bag)"
   ]
  },
  {
   "cell_type": "code",
   "execution_count": 31,
   "id": "terminal-export",
   "metadata": {},
   "outputs": [],
   "source": [
    "(val_interactions, val_weights) = dataset.build_interactions(val_bag)"
   ]
  },
  {
   "cell_type": "code",
   "execution_count": 30,
   "id": "exciting-helen",
   "metadata": {},
   "outputs": [
    {
     "data": {
      "text/plain": [
       "<137103x32192 sparse matrix of type '<class 'numpy.float32'>'\n",
       "\twith 8254944 stored elements in COOrdinate format>"
      ]
     },
     "execution_count": 30,
     "metadata": {},
     "output_type": "execute_result"
    }
   ],
   "source": [
    "#check that the size of the matrix is the same\n",
    "train_weights"
   ]
  },
  {
   "cell_type": "code",
   "execution_count": 31,
   "id": "derived-catering",
   "metadata": {},
   "outputs": [
    {
     "data": {
      "text/plain": [
       "<137103x32192 sparse matrix of type '<class 'numpy.float32'>'\n",
       "\twith 5511292 stored elements in COOrdinate format>"
      ]
     },
     "execution_count": 31,
     "metadata": {},
     "output_type": "execute_result"
    }
   ],
   "source": [
    "val_weights"
   ]
  },
  {
   "cell_type": "code",
   "execution_count": 19,
   "id": "relative-bulgaria",
   "metadata": {},
   "outputs": [],
   "source": [
    "#perform parameter tuning here\n",
    "#small_model = LightFM(loss='warp', no_components=10, item_alpha=0.02, user_alpha=0.02)"
   ]
  },
  {
   "cell_type": "code",
   "execution_count": 32,
   "id": "hispanic-thanks",
   "metadata": {},
   "outputs": [],
   "source": [
    "large_model = LightFM(loss='warp', no_components=50, item_alpha=0.05, user_alpha=0.05)"
   ]
  },
  {
   "cell_type": "code",
   "execution_count": 20,
   "id": "acoustic-leeds",
   "metadata": {},
   "outputs": [
    {
     "name": "stdout",
     "output_type": "stream",
     "text": [
      "CPU times: user 255 ms, sys: 2.56 ms, total: 258 ms\n",
      "Wall time: 273 ms\n"
     ]
    },
    {
     "data": {
      "text/plain": [
       "<lightfm.lightfm.LightFM at 0x146f728323d0>"
      ]
     },
     "execution_count": 20,
     "metadata": {},
     "output_type": "execute_result"
    }
   ],
   "source": [
    "#fit the small model\n",
    "#%time small_model.fit(train_weights, epochs=20, num_threads=2)"
   ]
  },
  {
   "cell_type": "code",
   "execution_count": 33,
   "id": "hollywood-cattle",
   "metadata": {},
   "outputs": [
    {
     "name": "stdout",
     "output_type": "stream",
     "text": [
      "CPU times: user 7min 14s, sys: 4.46 s, total: 7min 19s\n",
      "Wall time: 7min 32s\n"
     ]
    },
    {
     "data": {
      "text/plain": [
       "<lightfm.lightfm.LightFM at 0x146f71cff580>"
      ]
     },
     "execution_count": 33,
     "metadata": {},
     "output_type": "execute_result"
    }
   ],
   "source": [
    "#fit the large model\n",
    "%time large_model.fit(train_weights, epochs=20, num_threads=10)"
   ]
  },
  {
   "cell_type": "code",
   "execution_count": 34,
   "id": "brave-reserve",
   "metadata": {},
   "outputs": [],
   "source": [
    "from lightfm.evaluation import precision_at_k"
   ]
  },
  {
   "cell_type": "code",
   "execution_count": 21,
   "id": "thick-programming",
   "metadata": {},
   "outputs": [
    {
     "name": "stdout",
     "output_type": "stream",
     "text": [
      "Val precision: 0.09295\n"
     ]
    }
   ],
   "source": [
    "#use precision at k for parameter tuning\n",
    "#print(\"Val precision: %.5f\" % precision_at_k(small_model, val_interactions, k=100).mean())"
   ]
  },
  {
   "cell_type": "code",
   "execution_count": 35,
   "id": "colonial-dayton",
   "metadata": {},
   "outputs": [
    {
     "name": "stdout",
     "output_type": "stream",
     "text": [
      "Val precision: 0.06739\n"
     ]
    }
   ],
   "source": [
    "print(\"Val precision: %.5f\" % precision_at_k(large_model, val_interactions, k=100).mean())"
   ]
  },
  {
   "cell_type": "code",
   "execution_count": null,
   "id": "ambient-copyright",
   "metadata": {},
   "outputs": [],
   "source": []
  }
 ],
 "metadata": {
  "kernelspec": {
   "display_name": "Python 3",
   "language": "python",
   "name": "python3"
  },
  "language_info": {
   "codemirror_mode": {
    "name": "ipython",
    "version": 3
   },
   "file_extension": ".py",
   "mimetype": "text/x-python",
   "name": "python",
   "nbconvert_exporter": "python",
   "pygments_lexer": "ipython3",
   "version": "3.8.5"
  }
 },
 "nbformat": 4,
 "nbformat_minor": 5
}
