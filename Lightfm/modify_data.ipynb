{
 "cells": [
  {
   "cell_type": "code",
   "execution_count": 1,
   "id": "67e8e853",
   "metadata": {},
   "outputs": [],
   "source": [
    "import pandas as pd\n",
    "import numpy as np"
   ]
  },
  {
   "cell_type": "code",
   "execution_count": 53,
   "id": "09cb954f",
   "metadata": {},
   "outputs": [],
   "source": [
    "#read in original data\n",
    "#train = pd.read_csv(\"train_small.csv\")\n",
    "train = pd.read_csv(\"train_large.csv\")"
   ]
  },
  {
   "cell_type": "code",
   "execution_count": 54,
   "id": "a3b95b97",
   "metadata": {},
   "outputs": [],
   "source": [
    "#test = pd.read_csv(\"test_small.csv\")\n",
    "test = pd.read_csv(\"test_large.csv\")"
   ]
  },
  {
   "cell_type": "code",
   "execution_count": 55,
   "id": "951f9e25",
   "metadata": {},
   "outputs": [],
   "source": [
    "#val = pd.read_csv(\"val_small.csv\")\n",
    "val = pd.read_csv(\"val_large.csv\")"
   ]
  },
  {
   "cell_type": "code",
   "execution_count": 56,
   "id": "bdead403",
   "metadata": {},
   "outputs": [],
   "source": [
    "#get the user id of train and val\n",
    "train_user = train['userId']\n",
    "val_user = val['userId']"
   ]
  },
  {
   "cell_type": "code",
   "execution_count": 57,
   "id": "2968bca8",
   "metadata": {},
   "outputs": [],
   "source": [
    "#calculate their joint set\n",
    "train_val_common = list(set(train_user)&set(val_user))"
   ]
  },
  {
   "cell_type": "code",
   "execution_count": 58,
   "id": "452eeade",
   "metadata": {},
   "outputs": [],
   "source": [
    "#filter train and val to only include those user id that are in the joint set\n",
    "train_val = train[train['userId'].isin(train_val_common)]"
   ]
  },
  {
   "cell_type": "code",
   "execution_count": 59,
   "id": "86718364",
   "metadata": {},
   "outputs": [],
   "source": [
    "val_modified = val[val['userId'].isin(train_val_common)]"
   ]
  },
  {
   "cell_type": "code",
   "execution_count": 60,
   "id": "61e13330",
   "metadata": {},
   "outputs": [],
   "source": [
    "#the same step, only include those movie id that are in the joint set of train and val\n",
    "train_movie = train_val['movieId']\n",
    "val_movie = val_modified['movieId']"
   ]
  },
  {
   "cell_type": "code",
   "execution_count": 61,
   "id": "01cb38dc",
   "metadata": {},
   "outputs": [],
   "source": [
    "train_val_common = list(set(train_movie)&set(val_movie))"
   ]
  },
  {
   "cell_type": "code",
   "execution_count": 62,
   "id": "90429e58",
   "metadata": {},
   "outputs": [],
   "source": [
    "train_val = train_val[train_val['movieId'].isin(train_val_common)]\n",
    "val_modified = val_modified[val_modified['movieId'].isin(train_val_common)]"
   ]
  },
  {
   "cell_type": "code",
   "execution_count": 43,
   "id": "19d83e9d",
   "metadata": {},
   "outputs": [],
   "source": [
    "#write to csv\n",
    "#train_val.to_csv(\"train_val_small.csv\", index=False)\n",
    "train_val.to_csv(\"train_val_large.csv\", index=False)"
   ]
  },
  {
   "cell_type": "code",
   "execution_count": 63,
   "id": "925a96b6",
   "metadata": {},
   "outputs": [],
   "source": [
    "#val_modified.to_csv(\"val_modified_small.csv\", index=False)\n",
    "val_modified.to_csv(\"val_modified_large.csv\", index=False)"
   ]
  },
  {
   "cell_type": "code",
   "execution_count": 45,
   "id": "e57a7390",
   "metadata": {},
   "outputs": [],
   "source": [
    "#perform the same step to train and test set\n",
    "train_user = train['userId']\n",
    "test_user = test['userId']"
   ]
  },
  {
   "cell_type": "code",
   "execution_count": 46,
   "id": "6d6d6643",
   "metadata": {},
   "outputs": [],
   "source": [
    "train_test_common = list(set(train_user)&set(test_user))"
   ]
  },
  {
   "cell_type": "code",
   "execution_count": 47,
   "id": "1abbfacf",
   "metadata": {},
   "outputs": [],
   "source": [
    "train_test = train[train['userId'].isin(train_test_common)]\n",
    "test_modified = test[test['userId'].isin(train_test_common)]"
   ]
  },
  {
   "cell_type": "code",
   "execution_count": 48,
   "id": "79c31f14",
   "metadata": {},
   "outputs": [],
   "source": [
    "train_movie = train_test['movieId']\n",
    "test_movie = test_modified['movieId']"
   ]
  },
  {
   "cell_type": "code",
   "execution_count": 49,
   "id": "9374d208",
   "metadata": {},
   "outputs": [],
   "source": [
    "train_test_common = list(set(train_movie)&set(test_movie))"
   ]
  },
  {
   "cell_type": "code",
   "execution_count": 50,
   "id": "b6e4b755",
   "metadata": {},
   "outputs": [],
   "source": [
    "train_test = train_test[train_test['movieId'].isin(train_test_common)]\n",
    "test_modified = test_modified[test_modified['movieId'].isin(train_test_common)]"
   ]
  },
  {
   "cell_type": "code",
   "execution_count": 51,
   "id": "0170c327",
   "metadata": {},
   "outputs": [],
   "source": [
    "#train_test.to_csv(\"train_test_small.csv\", index=False)\n",
    "train_test.to_csv(\"train_test_large.csv\", index=False)"
   ]
  },
  {
   "cell_type": "code",
   "execution_count": 52,
   "id": "67776f65",
   "metadata": {},
   "outputs": [],
   "source": [
    "#test_modified.to_csv(\"test_modified_small.csv\", index=False)\n",
    "test_modified.to_csv(\"test_modified_large.csv\", index=False)"
   ]
  },
  {
   "cell_type": "code",
   "execution_count": null,
   "id": "e7988cb7",
   "metadata": {},
   "outputs": [],
   "source": []
  },
  {
   "cell_type": "code",
   "execution_count": null,
   "id": "2f0673a9",
   "metadata": {},
   "outputs": [],
   "source": []
  }
 ],
 "metadata": {
  "kernelspec": {
   "display_name": "Python 3",
   "language": "python",
   "name": "python3"
  },
  "language_info": {
   "codemirror_mode": {
    "name": "ipython",
    "version": 3
   },
   "file_extension": ".py",
   "mimetype": "text/x-python",
   "name": "python",
   "nbconvert_exporter": "python",
   "pygments_lexer": "ipython3",
   "version": "3.8.8"
  }
 },
 "nbformat": 4,
 "nbformat_minor": 5
}
