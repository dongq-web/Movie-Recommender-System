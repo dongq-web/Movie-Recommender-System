{
 "cells": [
  {
   "cell_type": "code",
   "execution_count": 1,
   "id": "740c0861",
   "metadata": {},
   "outputs": [],
   "source": [
    "import scipy.sparse as sp\n",
    "import numpy as np\n",
    "import pandas as pd"
   ]
  },
  {
   "cell_type": "code",
   "execution_count": 2,
   "id": "50ca5e1d",
   "metadata": {},
   "outputs": [],
   "source": [
    "import time"
   ]
  },
  {
   "cell_type": "code",
   "execution_count": 4,
   "id": "88dc3999",
   "metadata": {},
   "outputs": [],
   "source": [
    "#load the ranks matrix\n",
    "ranks = sp.load_npz(\"large_ranks.npz\")"
   ]
  },
  {
   "cell_type": "code",
   "execution_count": 16,
   "id": "043bb89e",
   "metadata": {
    "scrolled": false
   },
   "outputs": [
    {
     "data": {
      "text/plain": [
       "<137109x35232 sparse matrix of type '<class 'numpy.float32'>'\n",
       "\twith 5582836 stored elements in Compressed Sparse Row format>"
      ]
     },
     "execution_count": 16,
     "metadata": {},
     "output_type": "execute_result"
    }
   ],
   "source": [
    "ranks"
   ]
  },
  {
   "cell_type": "code",
   "execution_count": 5,
   "id": "68f4bda8",
   "metadata": {},
   "outputs": [],
   "source": [
    "#transfer sparse matrix to array\n",
    "ranks_array = ranks.toarray()"
   ]
  },
  {
   "cell_type": "code",
   "execution_count": 14,
   "id": "a25c061f",
   "metadata": {},
   "outputs": [],
   "source": [
    "#calcualte average precision for every user\n",
    "precision = list()\n",
    "for i in range(len(ranks_array)):\n",
    "    ranks_i = ranks_array[i][ranks_array[i]!=0]\n",
    "    ranks_i.sort()\n",
    "    count = 0\n",
    "    precision_i = 0\n",
    "    for rank in ranks_i:\n",
    "        count += 1\n",
    "        precision_i += count/rank\n",
    "        if rank > 100:\n",
    "            break\n",
    "    if count==0:\n",
    "        precision.append(0)\n",
    "    else:\n",
    "        precision.append(precision_i/count)"
   ]
  },
  {
   "cell_type": "code",
   "execution_count": 17,
   "id": "d0be6b3b",
   "metadata": {},
   "outputs": [
    {
     "name": "stdout",
     "output_type": "stream",
     "text": [
      "MAP of the large dataset is 0.11171882956340537\n"
     ]
    }
   ],
   "source": [
    "print(\"MAP of the large dataset is\", np.mean(precision))"
   ]
  },
  {
   "cell_type": "code",
   "execution_count": null,
   "id": "178a228f",
   "metadata": {},
   "outputs": [],
   "source": []
  }
 ],
 "metadata": {
  "kernelspec": {
   "display_name": "Python 3",
   "language": "python",
   "name": "python3"
  },
  "language_info": {
   "codemirror_mode": {
    "name": "ipython",
    "version": 3
   },
   "file_extension": ".py",
   "mimetype": "text/x-python",
   "name": "python",
   "nbconvert_exporter": "python",
   "pygments_lexer": "ipython3",
   "version": "3.8.8"
  }
 },
 "nbformat": 4,
 "nbformat_minor": 5
}
